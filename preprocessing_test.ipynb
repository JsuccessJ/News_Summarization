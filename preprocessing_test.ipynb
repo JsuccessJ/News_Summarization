{
 "cells": [
  {
   "cell_type": "code",
   "execution_count": 1,
   "id": "49a59fee-9c68-43e2-8398-32af14d11948",
   "metadata": {},
   "outputs": [
    {
     "name": "stdout",
     "output_type": "stream",
     "text": [
      "Reading data from ./data/Validation/신문기사_valid_original/valid_original.json...\n",
      "Data reading complete.\n",
      "\n"
     ]
    }
   ],
   "source": [
    "import json\n",
    "import pandas as pd\n",
    "\n",
    "# JSON 형식의 데이터를 파이썬 객체로 읽어옴\n",
    "file_path = './data/Validation/신문기사_valid_original/valid_original.json'\n",
    "print(f\"Reading data from {file_path}...\")\n",
    "with open(file_path, 'r', encoding='utf-8') as file:\n",
    "    data = json.load(file)\n",
    "print(\"Data reading complete.\\n\")\n",
    "\n",
    "# CSV 파일에 저장할 데이터\n",
    "csv_data = []"
   ]
  },
  {
   "cell_type": "code",
   "execution_count": 2,
   "id": "9876a66d-68e4-4c2c-9968-898d85f5e5db",
   "metadata": {},
   "outputs": [],
   "source": [
    "for document in data[\"documents\"]:\n",
    "    # \"text\" 필드에서 \"index\"가 2 이상인 문장들을 추출하여 하나의 문자열로 만듦\n",
    "    original_sentences = [sentence_info[0][\"sentence\"] for sentence_info in document[\"text\"] if sentence_info and sentence_info[0].get(\"index\", 0) >= 2]\n",
    "    original_text = ' '.join(original_sentences)\n",
    "\n",
    "    # \"extractive\" 필드에 있는 인덱스 번호에 해당하는 문장들을 추출하여 하나의 문자열로 만듦\n",
    "    extractive_indices = document.get(\"extractive\", [])\n",
    "    extractive_text = ' '.join(sentence_info[0][\"sentence\"] for sentence_info in document[\"text\"] for index in extractive_indices if sentence_info and sentence_info[0].get(\"index\", 0) == index)\n",
    "\n",
    "    # \"abstractive\" 필드에서 첫 번째 문장을 추출\n",
    "    abstractive_text = document.get(\"abstractive\", [\"\"])[0]\n",
    "\n",
    "    # CSV 데이터에 추가\n",
    "    csv_data.append({\"original\": original_text, \"extractive\": extractive_text, \"abstractive\": abstractive_text})\n"
   ]
  },
  {
   "cell_type": "code",
   "execution_count": 3,
   "id": "c0311e3f-f932-4dd5-8c00-29258f04efc5",
   "metadata": {},
   "outputs": [
    {
     "name": "stdout",
     "output_type": "stream",
     "text": [
      "CSV 파일이 document_summaries_test.csv로 성공적으로 생성되었습니다.\n"
     ]
    }
   ],
   "source": [
    "import csv\n",
    "\n",
    "# Your previous code to generate csv_data here...\n",
    "\n",
    "# CSV 파일로 저장\n",
    "csv_file_path = \"document_summaries_test.csv\"\n",
    "fields = [\"original\", \"extractive\", \"abstractive\"]\n",
    "\n",
    "with open(csv_file_path, mode='w', encoding='utf-8', newline='') as file:\n",
    "    writer = csv.DictWriter(file, fieldnames=fields)\n",
    "    writer.writeheader()\n",
    "    writer.writerows(csv_data)\n",
    "\n",
    "print(f\"CSV 파일이 {csv_file_path}로 성공적으로 생성되었습니다.\")\n"
   ]
  },
  {
   "cell_type": "code",
   "execution_count": null,
   "id": "e195381d-491b-4e8b-968c-30295d330ab4",
   "metadata": {},
   "outputs": [],
   "source": []
  }
 ],
 "metadata": {
  "kernelspec": {
   "display_name": "pytorch",
   "language": "python",
   "name": "pytorch"
  },
  "language_info": {
   "codemirror_mode": {
    "name": "ipython",
    "version": 3
   },
   "file_extension": ".py",
   "mimetype": "text/x-python",
   "name": "python",
   "nbconvert_exporter": "python",
   "pygments_lexer": "ipython3",
   "version": "3.9.18"
  }
 },
 "nbformat": 4,
 "nbformat_minor": 5
}
